{
 "cells": [
  {
   "cell_type": "code",
   "execution_count": 1,
   "metadata": {},
   "outputs": [
    {
     "data": {
      "application/vnd.jupyter.widget-view+json": {
       "model_id": "68d34967cc3244c0ba26228ecbe3379f",
       "version_major": 2,
       "version_minor": 0
      },
      "text/plain": [
       "interactive(children=(FloatSlider(value=1.0, description='r1', max=5.0, min=1.0, step=0.5), FloatSlider(value=…"
      ]
     },
     "metadata": {},
     "output_type": "display_data"
    },
    {
     "data": {
      "text/plain": [
       "<function __main__.plot_function(r1=1.0, cx1=1.0, cy1=1.0, r2=1.0, cx2=0.0, cy2=0.0, num_segmentos=50)>"
      ]
     },
     "execution_count": 1,
     "metadata": {},
     "output_type": "execute_result"
    }
   ],
   "source": [
    "%matplotlib inline\n",
    "import numpy as np\n",
    "#import matplotlib\n",
    "#matplotlib.use('TkAgg')\n",
    "from matplotlib import pyplot as plt\n",
    "from ipywidgets import interact \n",
    "import math\n",
    "\n",
    "\n",
    "###################################################################################\n",
    "\n",
    "def plot_function(r1=1.0, cx1=1.0, cy1=1.0, r2=1.0, cx2=0.0, cy2=0.0, num_segmentos=50):\n",
    "    \n",
    "    CUTflag = False\n",
    "\n",
    "    cutY1 = 0.0\n",
    "    cutY2 = 0.0\n",
    "    cutX1 = 0.0\n",
    "    cutX2 = 0.0\n",
    "\n",
    "\n",
    "\n",
    "    deltaX = cx2-cx1\n",
    "    deltaY = cy2-cy1\n",
    "    \n",
    "    print(deltaX)\n",
    "    print(deltaY)\n",
    "    \n",
    "    d = math.sqrt((deltaX)**(2) + (deltaY)**(2))\n",
    "    d2=(deltaX)**(2) + (deltaY)**(2)\n",
    "    \n",
    "    print(\"Distancia entre circunferencias: \",d)\n",
    "    \n",
    "    if d > r1+r2 :\n",
    "        print (\" \")\n",
    "        print (\"No hay intersecion.\")\n",
    "    elif r1 == r2 and cx1 == cx2 and cy1 == cy2 :\n",
    "        print (\" \")\n",
    "        print (\"Intersectan en todos sus puntos.\")\n",
    "    elif cx1 == cx2 and cy1 == cy2 :\n",
    "        print (\" \")\n",
    "        print (\"No hay intersecion.\")\n",
    "    elif r1 > r2 and d+r2 <= r1 :\n",
    "        print (\" \")\n",
    "        print (\"No hay intersecion.\")\n",
    "        print (\"C.red contiene C.blue\")\n",
    "    elif r2 > r1 and d+r1 <= r2 :\n",
    "        print (\" \")\n",
    "        print (\"No hay intersecion.\")\n",
    "        print (\"C.blue contiene C.red\")\n",
    "        \n",
    "    elif r1+r2 > d and d > abs(r1-r2):\n",
    "        \n",
    "        #Desarrollo de constantes\n",
    "     \n",
    "        K    = (1/4)*math.sqrt((d+r1+r2)*(d+r1-r2)*(d-r1+r2)*(-d+r1+r2))\n",
    "        \n",
    "        #Puntos de interseccion\n",
    "        cutY1 =((cy1+cy2)/2) +(((cy2-cy1)*(r1**(2)-r2**(2)))/(2*d2)) - (2*(cx1-cx2)/d2)*K\n",
    "        cutY2 =((cy1+cy2)/2) +(((cy2-cy1)*(r1**(2)-r2**(2)))/(2*d2)) + (2*(cx1-cx2)/d2)*K\n",
    "        cutX1 =((cx1+cx2)/2) +(((cx2-cx1)*(r1**(2)-r2**(2)))/(2*d2)) + (2*(cy1-cy2)/d2)*K\n",
    "        cutX2 =((cx1+cx2)/2) +(((cx2-cx1)*(r1**(2)-r2**(2)))/(2*d2)) - (2*(cy1-cy2)/d2)*K\n",
    "\n",
    "\n",
    "        print(\"Interseccion 1 en el punto: \", cutX1, cutY1)\n",
    "        print(\"Interseccion 2 en el punto: \", cutX2, cutY2)\n",
    "        CUTflag = True\n",
    "\n",
    "    \n",
    "    #Generador de espacio de variable\n",
    "    angulo = np.linspace(0, 2*np.pi, num_segmentos+1)\n",
    "        \n",
    "    #Coordenadas C1\n",
    "    x1 = r1 * np.cos(angulo) + cx1\n",
    "    y1 = r1 * np.sin(angulo) + cy1\n",
    "\n",
    "    #Coordenadas C2\n",
    "    x2 = r2 * np.cos(angulo) + cx2\n",
    "    y2 = r2 * np.sin(angulo) + cy2\n",
    "\n",
    "    #plot C1\n",
    "    plt.plot(x1, y1, color=\"red\", markersize=1)\n",
    "    #plot C2\n",
    "    plt.plot(x2, y2, color=\"blue\", markersize=1)\n",
    "    if CUTflag == True :\n",
    "       #plot Cut1\n",
    "       plt.plot(cutX1, cutY1, 'o')\n",
    "       #plot Cut2\n",
    "       plt.plot(cutX2, cutY2, 'o')\n",
    "    \n",
    "    plt.title(\"Circunferencia\")\n",
    "    plt.xlabel(\"X\")\n",
    "    plt.ylabel(\"Y\")\n",
    "    plt.gca().set_aspect('equal')\n",
    "    plt.grid()\n",
    "    plt.show()\n",
    "\n",
    "###################################################################################\n",
    "interact(plot_function, \n",
    "         r1=(1.0, 5.0, 0.5), \n",
    "         cx1=(0.0, 5.0, 0.5),\n",
    "         cy1=(0.0, 5.0, 0.5),\n",
    "         r2=(1.0, 5.0, 0.5), \n",
    "         cx2=(0.0, 5.0, 0.5),\n",
    "         cy2=(0.0, 5.0, 0.5))\n",
    "\n"
   ]
  },
  {
   "cell_type": "code",
   "execution_count": null,
   "metadata": {},
   "outputs": [],
   "source": []
  },
  {
   "cell_type": "code",
   "execution_count": null,
   "metadata": {},
   "outputs": [],
   "source": []
  },
  {
   "cell_type": "code",
   "execution_count": null,
   "metadata": {},
   "outputs": [],
   "source": []
  }
 ],
 "metadata": {
  "kernelspec": {
   "display_name": "Python 3",
   "language": "python",
   "name": "python3"
  },
  "language_info": {
   "codemirror_mode": {
    "name": "ipython",
    "version": 3
   },
   "file_extension": ".py",
   "mimetype": "text/x-python",
   "name": "python",
   "nbconvert_exporter": "python",
   "pygments_lexer": "ipython3",
   "version": "3.5.3"
  }
 },
 "nbformat": 4,
 "nbformat_minor": 4
}
